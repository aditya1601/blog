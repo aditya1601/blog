{
 "cells": [
  {
   "cell_type": "markdown",
   "metadata": {},
   "source": [
    "# \"This is a test title\"\r\n",
    "> \"Lets test this out\"\r\n",
    "\r\n",
    "- toc: false\r\n",
    "- badges: true\r\n",
    "- comments: true\r\n",
    "- categories: [intro, personal]"
   ]
  },
  {
   "cell_type": "markdown",
   "metadata": {},
   "source": [
    "# How does this look?\r\n",
    "\r\n",
    "I mean thats a nice heading right :smile:"
   ]
  },
  {
   "cell_type": "markdown",
   "metadata": {},
   "source": []
  }
 ],
 "metadata": {
  "interpreter": {
   "hash": "6b0b85c69c4c1279a0fbb0f9c4d10dc07cffbd905b576600c4aa8ca12e95fbef"
  },
  "kernelspec": {
   "display_name": "Python 3.8.0 64-bit",
   "name": "python3"
  },
  "language_info": {
   "name": "python",
   "version": ""
  },
  "orig_nbformat": 4
 },
 "nbformat": 4,
 "nbformat_minor": 2
}